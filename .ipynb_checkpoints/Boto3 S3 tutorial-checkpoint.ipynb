{
 "cells": [
  {
   "cell_type": "markdown",
   "id": "39d1188b",
   "metadata": {},
   "source": [
    "# Boto 3 for S3 in python"
   ]
  },
  {
   "cell_type": "code",
   "execution_count": 2,
   "id": "018574f7",
   "metadata": {},
   "outputs": [],
   "source": [
    "import boto3\n",
    "import os\n",
    "import sys\n",
    "import pandas as pd\n",
    "import matplotlib.pyplot as plt\n",
    "import datetime"
   ]
  },
  {
   "cell_type": "code",
   "execution_count": 3,
   "id": "3e27a71e",
   "metadata": {},
   "outputs": [],
   "source": [
    "%matplotlib inline"
   ]
  },
  {
   "cell_type": "markdown",
   "id": "31dd9b4c",
   "metadata": {},
   "source": [
    "# Good Way to create Bucket\n",
    "\n",
    "How to Name the Bucket\n",
    "\n",
    "### FirstName MiddleName LastName Date\n",
    "\n",
    "##### Example\n",
    "##### bhavikasantoshbadjate692021"
   ]
  },
  {
   "cell_type": "markdown",
   "id": "9e07bcc0",
   "metadata": {},
   "source": [
    "# What File are Available "
   ]
  },
  {
   "cell_type": "code",
   "execution_count": 4,
   "id": "0560de2a",
   "metadata": {},
   "outputs": [
    {
     "data": {
      "text/plain": [
       "['badjate.png',\n",
       " 'Boto3 S3 tutorial.ipynb',\n",
       " 'bhvaika.png',\n",
       " 'master.py',\n",
       " '.ipynb_checkpoints',\n",
       " '.git',\n",
       " 'bhvaika1.jpeg']"
      ]
     },
     "execution_count": 4,
     "metadata": {},
     "output_type": "execute_result"
    }
   ],
   "source": [
    "os.listdir()"
   ]
  },
  {
   "cell_type": "code",
   "execution_count": 5,
   "id": "f19093fc",
   "metadata": {},
   "outputs": [
    {
     "data": {
      "text/plain": [
       "datetime.datetime(2021, 9, 6, 19, 0, 7, 211182)"
      ]
     },
     "execution_count": 5,
     "metadata": {},
     "output_type": "execute_result"
    }
   ],
   "source": [
    "d = datetime.datetime.now()\n",
    "d"
   ]
  },
  {
   "cell_type": "code",
   "execution_count": 6,
   "id": "db348348",
   "metadata": {},
   "outputs": [
    {
     "data": {
      "text/plain": [
       "'962021'"
      ]
     },
     "execution_count": 6,
     "metadata": {},
     "output_type": "execute_result"
    }
   ],
   "source": [
    "Current_Time = \"{}{}{}\".format(d.month,d.day,d.year)\n",
    "Current_Time"
   ]
  },
  {
   "cell_type": "code",
   "execution_count": 7,
   "id": "973bc695",
   "metadata": {},
   "outputs": [],
   "source": [
    "client = boto3.client('s3')"
   ]
  },
  {
   "cell_type": "code",
   "execution_count": 8,
   "id": "26f9e7ab",
   "metadata": {},
   "outputs": [],
   "source": [
    "response = client.create_bucket(\n",
    "    ACL='private',\n",
    "    Bucket='bhavikasantoshbadjate{}'.format(Current_Time),\n",
    "    CreateBucketConfiguration={\n",
    "        'LocationConstraint': 'ap-south-1'\n",
    "    }\n",
    ")"
   ]
  },
  {
   "cell_type": "code",
   "execution_count": 9,
   "id": "8e895b05",
   "metadata": {},
   "outputs": [
    {
     "data": {
      "text/plain": [
       "{'ResponseMetadata': {'RequestId': 'X8WWX5F2GQMVQ53R',\n",
       "  'HostId': '2MiQ71GB0OQJRcvBapAxeYy8KazYbKaXtuUIl8IowcKTxnh+6E9jvK2nrf7brjrmza1X7oKaQD0=',\n",
       "  'HTTPStatusCode': 200,\n",
       "  'HTTPHeaders': {'x-amz-id-2': '2MiQ71GB0OQJRcvBapAxeYy8KazYbKaXtuUIl8IowcKTxnh+6E9jvK2nrf7brjrmza1X7oKaQD0=',\n",
       "   'x-amz-request-id': 'X8WWX5F2GQMVQ53R',\n",
       "   'date': 'Mon, 06 Sep 2021 13:30:10 GMT',\n",
       "   'location': 'http://bhavikasantoshbadjate962021.s3.amazonaws.com/',\n",
       "   'server': 'AmazonS3',\n",
       "   'content-length': '0'},\n",
       "  'RetryAttempts': 0},\n",
       " 'Location': 'http://bhavikasantoshbadjate962021.s3.amazonaws.com/'}"
      ]
     },
     "execution_count": 9,
     "metadata": {},
     "output_type": "execute_result"
    }
   ],
   "source": [
    "response"
   ]
  },
  {
   "cell_type": "markdown",
   "id": "30d03282",
   "metadata": {},
   "source": [
    "# Upload Files to S3 bucket"
   ]
  },
  {
   "cell_type": "code",
   "execution_count": 10,
   "id": "7d32bc4d",
   "metadata": {},
   "outputs": [
    {
     "data": {
      "text/plain": [
       "['badjate.png',\n",
       " 'Boto3 S3 tutorial.ipynb',\n",
       " 'bhvaika.png',\n",
       " 'master.py',\n",
       " '.ipynb_checkpoints',\n",
       " '.git',\n",
       " 'bhvaika1.jpeg']"
      ]
     },
     "execution_count": 10,
     "metadata": {},
     "output_type": "execute_result"
    }
   ],
   "source": [
    "os.listdir()"
   ]
  },
  {
   "cell_type": "code",
   "execution_count": 11,
   "id": "7ea80ebc",
   "metadata": {},
   "outputs": [],
   "source": [
    "with open (\"bhvaika.png\", 'rb') as f:\n",
    "    data = f.read()"
   ]
  },
  {
   "cell_type": "code",
   "execution_count": 12,
   "id": "b90a9d21",
   "metadata": {},
   "outputs": [],
   "source": [
    "response = client.put_object(\n",
    "    ACL='private',\n",
    "    Body= data,\n",
    "    Bucket='bhavikasantoshbadjate{}'.format(Current_Time),\n",
    "    Key='bhavika.jpg',\n",
    ")"
   ]
  },
  {
   "cell_type": "code",
   "execution_count": 13,
   "id": "0a6cec2c",
   "metadata": {},
   "outputs": [
    {
     "data": {
      "text/plain": [
       "{'ResponseMetadata': {'RequestId': 'DSEBQ7KA0EJVZY6X',\n",
       "  'HostId': '5LBHpyuM16eGO42wr1gnf1u434VhfZD+ucYPcTf+rJwTYT42P1oQzXeADNcAaijSdUwGYblPU3g=',\n",
       "  'HTTPStatusCode': 200,\n",
       "  'HTTPHeaders': {'x-amz-id-2': '5LBHpyuM16eGO42wr1gnf1u434VhfZD+ucYPcTf+rJwTYT42P1oQzXeADNcAaijSdUwGYblPU3g=',\n",
       "   'x-amz-request-id': 'DSEBQ7KA0EJVZY6X',\n",
       "   'date': 'Mon, 06 Sep 2021 13:30:15 GMT',\n",
       "   'etag': '\"6d08768c7fce7e9e9673f46776f2fb48\"',\n",
       "   'server': 'AmazonS3',\n",
       "   'content-length': '0'},\n",
       "  'RetryAttempts': 0},\n",
       " 'ETag': '\"6d08768c7fce7e9e9673f46776f2fb48\"'}"
      ]
     },
     "execution_count": 13,
     "metadata": {},
     "output_type": "execute_result"
    }
   ],
   "source": [
    "response"
   ]
  },
  {
   "cell_type": "code",
   "execution_count": 14,
   "id": "64439d15",
   "metadata": {},
   "outputs": [],
   "source": [
    "with open (\"badjate.png\", 'rb') as f:\n",
    "    abc = f.read()"
   ]
  },
  {
   "cell_type": "code",
   "execution_count": 15,
   "id": "91ce2d71",
   "metadata": {},
   "outputs": [],
   "source": [
    "response = client.put_object(\n",
    "    ACL='private',\n",
    "    Body= abc,\n",
    "    Bucket='bhavikasantoshbadjate{}'.format(Current_Time),\n",
    "    Key='badjate.jpg',\n",
    ")"
   ]
  },
  {
   "cell_type": "markdown",
   "id": "9a92e505",
   "metadata": {},
   "source": [
    "# Lets Learn to Delete File"
   ]
  },
  {
   "cell_type": "code",
   "execution_count": 16,
   "id": "08477e85",
   "metadata": {},
   "outputs": [],
   "source": [
    "response = client.delete_object(\n",
    "    Bucket='bhavikasantoshbadjate{}'.format(Current_Time),\n",
    "    Key='bhavika.jpg'\n",
    ")"
   ]
  },
  {
   "cell_type": "code",
   "execution_count": 17,
   "id": "39aaedd9",
   "metadata": {},
   "outputs": [
    {
     "data": {
      "text/plain": [
       "{'ResponseMetadata': {'RequestId': 'E0G9BVWYGM2998YF',\n",
       "  'HostId': 'BlHIvBlQyuyztbFURZHFkwGajIYK3Pe23GxNsHzkW2nJFFwzFyJdEpfhgGsBgnXHAKUfW6TDtlc=',\n",
       "  'HTTPStatusCode': 204,\n",
       "  'HTTPHeaders': {'x-amz-id-2': 'BlHIvBlQyuyztbFURZHFkwGajIYK3Pe23GxNsHzkW2nJFFwzFyJdEpfhgGsBgnXHAKUfW6TDtlc=',\n",
       "   'x-amz-request-id': 'E0G9BVWYGM2998YF',\n",
       "   'date': 'Mon, 06 Sep 2021 13:30:19 GMT',\n",
       "   'server': 'AmazonS3'},\n",
       "  'RetryAttempts': 0}}"
      ]
     },
     "execution_count": 17,
     "metadata": {},
     "output_type": "execute_result"
    }
   ],
   "source": [
    "response"
   ]
  },
  {
   "cell_type": "markdown",
   "id": "c33b5064",
   "metadata": {},
   "source": [
    "# Get the Objects in S3 Bucket"
   ]
  },
  {
   "cell_type": "code",
   "execution_count": 18,
   "id": "cee23985",
   "metadata": {
    "scrolled": true
   },
   "outputs": [
    {
     "data": {
      "text/plain": [
       "[{'Key': 'badjate.jpg',\n",
       "  'LastModified': datetime.datetime(2021, 9, 6, 13, 30, 17, tzinfo=tzutc()),\n",
       "  'ETag': '\"dcd40a824cd886a81071b48b84dbfc69\"',\n",
       "  'Size': 1534377,\n",
       "  'StorageClass': 'STANDARD',\n",
       "  'Owner': {'ID': '62e0659ec5a5daab96c2004f6ed1f47881e6dc64fc89af67a4492471dd79bae0'}}]"
      ]
     },
     "execution_count": 18,
     "metadata": {},
     "output_type": "execute_result"
    }
   ],
   "source": [
    "response = client.list_objects(\n",
    "    Bucket='bhavikasantoshbadjate{}'.format(Current_Time),\n",
    ")\n",
    "response['Contents']"
   ]
  },
  {
   "cell_type": "code",
   "execution_count": 19,
   "id": "dd5fea62",
   "metadata": {},
   "outputs": [
    {
     "name": "stdout",
     "output_type": "stream",
     "text": [
      "badjate.jpg\n"
     ]
    }
   ],
   "source": [
    "for x in response.get(\"Contents\", None):\n",
    "    print(x.get(\"Key\", None))"
   ]
  },
  {
   "cell_type": "code",
   "execution_count": 20,
   "id": "34ec9d02",
   "metadata": {},
   "outputs": [],
   "source": [
    "response = client.list_buckets()"
   ]
  },
  {
   "cell_type": "code",
   "execution_count": 21,
   "id": "5484051e",
   "metadata": {},
   "outputs": [
    {
     "data": {
      "text/plain": [
       "[{'Name': 'bhavikasantoshbadjate962021',\n",
       "  'CreationDate': datetime.datetime(2021, 9, 6, 13, 30, 11, tzinfo=tzutc())}]"
      ]
     },
     "execution_count": 21,
     "metadata": {},
     "output_type": "execute_result"
    }
   ],
   "source": [
    "response['Buckets']"
   ]
  },
  {
   "cell_type": "code",
   "execution_count": 22,
   "id": "6352b86a",
   "metadata": {},
   "outputs": [
    {
     "name": "stdout",
     "output_type": "stream",
     "text": [
      "bhavikasantoshbadjate962021\n"
     ]
    }
   ],
   "source": [
    "for x in response.get('Buckets', None):\n",
    "    print(x.get('Name', None))"
   ]
  },
  {
   "cell_type": "code",
   "execution_count": 23,
   "id": "58a3ad7d",
   "metadata": {},
   "outputs": [
    {
     "ename": "ClientError",
     "evalue": "An error occurred (BucketNotEmpty) when calling the DeleteBucket operation: The bucket you tried to delete is not empty",
     "output_type": "error",
     "traceback": [
      "\u001b[0;31m---------------------------------------------------------------------------\u001b[0m",
      "\u001b[0;31mClientError\u001b[0m                               Traceback (most recent call last)",
      "\u001b[0;32m<ipython-input-23-8686a8520792>\u001b[0m in \u001b[0;36m<module>\u001b[0;34m\u001b[0m\n\u001b[0;32m----> 1\u001b[0;31m response = client.delete_bucket(\n\u001b[0m\u001b[1;32m      2\u001b[0m     \u001b[0mBucket\u001b[0m\u001b[0;34m=\u001b[0m\u001b[0;34m'bhavikasantoshbadjate{}'\u001b[0m\u001b[0;34m.\u001b[0m\u001b[0mformat\u001b[0m\u001b[0;34m(\u001b[0m\u001b[0mCurrent_Time\u001b[0m\u001b[0;34m)\u001b[0m\u001b[0;34m\u001b[0m\u001b[0;34m\u001b[0m\u001b[0m\n\u001b[1;32m      3\u001b[0m )\n\u001b[1;32m      4\u001b[0m \u001b[0mresponse\u001b[0m\u001b[0;34m\u001b[0m\u001b[0;34m\u001b[0m\u001b[0m\n",
      "\u001b[0;32m~/opt/anaconda3/lib/python3.8/site-packages/botocore/client.py\u001b[0m in \u001b[0;36m_api_call\u001b[0;34m(self, *args, **kwargs)\u001b[0m\n\u001b[1;32m    384\u001b[0m                     \"%s() only accepts keyword arguments.\" % py_operation_name)\n\u001b[1;32m    385\u001b[0m             \u001b[0;31m# The \"self\" in this scope is referring to the BaseClient.\u001b[0m\u001b[0;34m\u001b[0m\u001b[0;34m\u001b[0m\u001b[0;34m\u001b[0m\u001b[0m\n\u001b[0;32m--> 386\u001b[0;31m             \u001b[0;32mreturn\u001b[0m \u001b[0mself\u001b[0m\u001b[0;34m.\u001b[0m\u001b[0m_make_api_call\u001b[0m\u001b[0;34m(\u001b[0m\u001b[0moperation_name\u001b[0m\u001b[0;34m,\u001b[0m \u001b[0mkwargs\u001b[0m\u001b[0;34m)\u001b[0m\u001b[0;34m\u001b[0m\u001b[0;34m\u001b[0m\u001b[0m\n\u001b[0m\u001b[1;32m    387\u001b[0m \u001b[0;34m\u001b[0m\u001b[0m\n\u001b[1;32m    388\u001b[0m         \u001b[0m_api_call\u001b[0m\u001b[0;34m.\u001b[0m\u001b[0m__name__\u001b[0m \u001b[0;34m=\u001b[0m \u001b[0mstr\u001b[0m\u001b[0;34m(\u001b[0m\u001b[0mpy_operation_name\u001b[0m\u001b[0;34m)\u001b[0m\u001b[0;34m\u001b[0m\u001b[0;34m\u001b[0m\u001b[0m\n",
      "\u001b[0;32m~/opt/anaconda3/lib/python3.8/site-packages/botocore/client.py\u001b[0m in \u001b[0;36m_make_api_call\u001b[0;34m(self, operation_name, api_params)\u001b[0m\n\u001b[1;32m    703\u001b[0m             \u001b[0merror_code\u001b[0m \u001b[0;34m=\u001b[0m \u001b[0mparsed_response\u001b[0m\u001b[0;34m.\u001b[0m\u001b[0mget\u001b[0m\u001b[0;34m(\u001b[0m\u001b[0;34m\"Error\"\u001b[0m\u001b[0;34m,\u001b[0m \u001b[0;34m{\u001b[0m\u001b[0;34m}\u001b[0m\u001b[0;34m)\u001b[0m\u001b[0;34m.\u001b[0m\u001b[0mget\u001b[0m\u001b[0;34m(\u001b[0m\u001b[0;34m\"Code\"\u001b[0m\u001b[0;34m)\u001b[0m\u001b[0;34m\u001b[0m\u001b[0;34m\u001b[0m\u001b[0m\n\u001b[1;32m    704\u001b[0m             \u001b[0merror_class\u001b[0m \u001b[0;34m=\u001b[0m \u001b[0mself\u001b[0m\u001b[0;34m.\u001b[0m\u001b[0mexceptions\u001b[0m\u001b[0;34m.\u001b[0m\u001b[0mfrom_code\u001b[0m\u001b[0;34m(\u001b[0m\u001b[0merror_code\u001b[0m\u001b[0;34m)\u001b[0m\u001b[0;34m\u001b[0m\u001b[0;34m\u001b[0m\u001b[0m\n\u001b[0;32m--> 705\u001b[0;31m             \u001b[0;32mraise\u001b[0m \u001b[0merror_class\u001b[0m\u001b[0;34m(\u001b[0m\u001b[0mparsed_response\u001b[0m\u001b[0;34m,\u001b[0m \u001b[0moperation_name\u001b[0m\u001b[0;34m)\u001b[0m\u001b[0;34m\u001b[0m\u001b[0;34m\u001b[0m\u001b[0m\n\u001b[0m\u001b[1;32m    706\u001b[0m         \u001b[0;32melse\u001b[0m\u001b[0;34m:\u001b[0m\u001b[0;34m\u001b[0m\u001b[0;34m\u001b[0m\u001b[0m\n\u001b[1;32m    707\u001b[0m             \u001b[0;32mreturn\u001b[0m \u001b[0mparsed_response\u001b[0m\u001b[0;34m\u001b[0m\u001b[0;34m\u001b[0m\u001b[0m\n",
      "\u001b[0;31mClientError\u001b[0m: An error occurred (BucketNotEmpty) when calling the DeleteBucket operation: The bucket you tried to delete is not empty"
     ]
    }
   ],
   "source": [
    "response = client.delete_bucket(\n",
    "    Bucket='bhavikasantoshbadjate{}'.format(Current_Time)\n",
    ")\n",
    "response"
   ]
  },
  {
   "cell_type": "code",
   "execution_count": 24,
   "id": "31c129a0",
   "metadata": {},
   "outputs": [],
   "source": [
    "response = client.delete_object(\n",
    "    Bucket='bhavikasantoshbadjate{}'.format(Current_Time),\n",
    "    Key='badjate.jpg'\n",
    ")"
   ]
  },
  {
   "cell_type": "code",
   "execution_count": 25,
   "id": "51c8f7e8",
   "metadata": {},
   "outputs": [
    {
     "data": {
      "text/plain": [
       "{'ResponseMetadata': {'RequestId': 'WC99YZVM9KQBTBCG',\n",
       "  'HostId': '/qYFbKxxEEYABvZ+tAtYjRjbqFUkEuSdy+PyOoHHb7eNANIrG8a5pk6twyEsoFuRiNXsOTJpi88=',\n",
       "  'HTTPStatusCode': 204,\n",
       "  'HTTPHeaders': {'x-amz-id-2': '/qYFbKxxEEYABvZ+tAtYjRjbqFUkEuSdy+PyOoHHb7eNANIrG8a5pk6twyEsoFuRiNXsOTJpi88=',\n",
       "   'x-amz-request-id': 'WC99YZVM9KQBTBCG',\n",
       "   'date': 'Mon, 06 Sep 2021 13:30:38 GMT',\n",
       "   'server': 'AmazonS3'},\n",
       "  'RetryAttempts': 0}}"
      ]
     },
     "execution_count": 25,
     "metadata": {},
     "output_type": "execute_result"
    }
   ],
   "source": [
    "response"
   ]
  },
  {
   "cell_type": "code",
   "execution_count": 26,
   "id": "77e97f6a",
   "metadata": {},
   "outputs": [
    {
     "data": {
      "text/plain": [
       "{'ResponseMetadata': {'RequestId': 'R12CT0X1ZTB6HBTT',\n",
       "  'HostId': 'Xnyqwc1n9jyMFcjvHLHejhYaO4N4d3lAP3p1q82venjgJP0kpStTMmzuf7Bd78oidGt/dsemcOs=',\n",
       "  'HTTPStatusCode': 204,\n",
       "  'HTTPHeaders': {'x-amz-id-2': 'Xnyqwc1n9jyMFcjvHLHejhYaO4N4d3lAP3p1q82venjgJP0kpStTMmzuf7Bd78oidGt/dsemcOs=',\n",
       "   'x-amz-request-id': 'R12CT0X1ZTB6HBTT',\n",
       "   'date': 'Mon, 06 Sep 2021 13:30:40 GMT',\n",
       "   'server': 'AmazonS3'},\n",
       "  'RetryAttempts': 0}}"
      ]
     },
     "execution_count": 26,
     "metadata": {},
     "output_type": "execute_result"
    }
   ],
   "source": [
    "response = client.delete_bucket(\n",
    "    Bucket='bhavikasantoshbadjate{}'.format(Current_Time)\n",
    ")\n",
    "response"
   ]
  },
  {
   "cell_type": "code",
   "execution_count": null,
   "id": "e2cde812",
   "metadata": {},
   "outputs": [],
   "source": []
  }
 ],
 "metadata": {
  "kernelspec": {
   "display_name": "Python 3",
   "language": "python",
   "name": "python3"
  },
  "language_info": {
   "codemirror_mode": {
    "name": "ipython",
    "version": 3
   },
   "file_extension": ".py",
   "mimetype": "text/x-python",
   "name": "python",
   "nbconvert_exporter": "python",
   "pygments_lexer": "ipython3",
   "version": "3.8.8"
  }
 },
 "nbformat": 4,
 "nbformat_minor": 5
}
